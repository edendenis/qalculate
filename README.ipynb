{
 "cells": [
  {
   "cell_type": "markdown",
   "metadata": {},
   "source": [
    "# Como instalar/configurar/usar o `qalculate` no `Linux Ubuntu`\n",
    "\n",
    "## Resumo\n",
    "\n",
    "Neste documento estão contidos os principais comandos e configurações para instalar/configurar/usar o `qalculate` no `Linux Ubuntu`.\n",
    "\n",
    "## _Abstract_\n",
    "\n",
    "_This document contains the main commands and settings to install/configure/use the `qalculate` on `Linux Ubuntu`._"
   ]
  },
  {
   "cell_type": "markdown",
   "metadata": {},
   "source": [
    "## Descrição [2]\n",
    "\n",
    "### `qalculate`\n",
    "\n",
    "O `qalculate` é uma calculadora avançada e multifuncional para sistemas Linux, projetada para oferecer uma ampla gama de operações matemáticas e científicas. Com uma interface gráfica intuitiva, o `qalculate` suporta cálculos básicos, funções matemáticas complexas, e operações simbólicas. Ele é útil tanto para usuários casuais que precisam de uma calculadora poderosa quanto para profissionais que requerem ferramentas de cálculo mais especializadas. O software inclui suporte para expressões matemáticas, variáveis, e unidades de medida, tornando-o uma ferramenta versátil e robusta para diversas necessidades de cálculo.\n"
   ]
  },
  {
   "cell_type": "markdown",
   "metadata": {},
   "source": [
    "## 1. Configurar/Instalar/Usar o `qalculate` no `Linux Ubuntu` [1]\n",
    "\n",
    "Para configurar/instalar/usar o `qalculate` no `Linux Ubuntu`, você pode usar o gerenciador de pacotes apt. Siga os passos abaixo:\n",
    "\n",
    "1. Abra o `Terminal Emulator`. Você pode fazer isso pressionando: `Ctrl + Alt + T`\n"
   ]
  },
  {
   "cell_type": "markdown",
   "metadata": {},
   "source": [
    "2. Certifique-se de que seu sistema esteja limpo e atualizado.\n",
    "\n",
    "    2.1 Limpar o `cache` do gerenciador de pacotes `apt`. Especificamente, ele remove todos os arquivos de pacotes (`.deb`) baixados pelo `apt` e armazenados em `/var/cache/apt/archives/`. Digite o seguinte comando: `sudo apt clean` \n",
    "    \n",
    "    2.2 Remover pacotes `.deb` antigos ou duplicados do cache local. É útil para liberar espaço, pois remove apenas os pacotes que não podem mais ser baixados (ou seja, versões antigas de pacotes que foram atualizados). Digite o seguinte comando: `sudo apt autoclean`\n",
    "\n",
    "    2.3 Remover pacotes que foram automaticamente instalados para satisfazer as dependências de outros pacotes e que não são mais necessários. Digite o seguinte comando: `sudo apt autoremove -y`\n",
    "\n",
    "    2.4 Buscar as atualizações disponíveis para os pacotes que estão instalados em seu sistema. Digite o seguinte comando e pressione `Enter`: `sudo apt update`\n",
    "\n",
    "    2.5 **Corrigir pacotes quebrados**: Isso atualizará a lista de pacotes disponíveis e tentará corrigir pacotes quebrados ou com dependências ausentes: `sudo apt --fix-broken install`\n",
    "\n",
    "    2.6 Limpar o `cache` do gerenciador de pacotes `apt`. Especificamente, ele remove todos os arquivos de pacotes (`.deb`) baixados pelo `apt` e armazenados em `/var/cache/apt/archives/`. Digite o seguinte comando: `sudo apt clean` \n",
    "    \n",
    "    2.7 Para ver a lista de pacotes a serem atualizados, digite o seguinte comando e pressione `Enter`:  `sudo apt list --upgradable`\n",
    "\n",
    "    2.8 Realmente atualizar os pacotes instalados para as suas versões mais recentes, com base na última vez que você executou `sudo apt update`. Digite o seguinte comando e pressione `Enter`: `sudo apt full-upgrade -y`\n",
    "    "
   ]
  },
  {
   "cell_type": "markdown",
   "metadata": {},
   "source": [
    "Para instalar o `Qalculate` no `Linux Ubuntu` pelo `Terminal Emulator`, você pode seguir os passos abaixo. O `Qalculate` é uma calculadora avançada que suporta diversas funcionalidades matemáticas, como álgebra simbólica, conversões e unidades.\n",
    "\n",
    "1. **Instale o `Qalculate`**: O `Qalculate` está disponível no repositório oficial do `Linux Ubuntu`, então você pode instalá-lo diretamente com o `apt`.\n",
    "\n",
    "2. Para instalar a interface gráfica e o pacote de linha de comando, use o comando: `sudo apt install qalculate-gtk -y`\n",
    "\n",
    "    Isso instalará a versão gráfica do `Qalculate`.\n",
    "\n",
    "3. **Inicie o `Qalculate`**: Após a instalação, você pode iniciar o `Qalculate` pela linha de comando ou pelo menu de aplicativos:\n",
    "\n",
    "    3.1 **No `Terminal Emulator`**: `qalculate-gtk`\n",
    "\n",
    "    3.2 Ou pesquise por `\"Qalculate\"` no seu menu de aplicativos.\n",
    "\n",
    "4. **Verificar a instalação**: Para garantir que o `Qalculate` foi instalado corretamente, você pode verificar a versão instalada com o seguinte comando: `qalculate --version`\n",
    "\n",
    "Com isso, o `Qalculate` estará instalado e pronto para uso no seu Ubuntu."
   ]
  },
  {
   "cell_type": "markdown",
   "metadata": {},
   "source": [
    "## 1.1 Código completo para configurar/instalar/usar\n",
    "\n",
    "Para configurar/instalar/usar o `qalculate` no `Linux Ubuntu` sem precisar digitar linha por linha, você pode seguir estas etapas:\n",
    "\n",
    "1. Abra o `Terminal Emulator. Você pode fazer isso pressionando: `Ctrl + Alt + T`\n",
    "\n",
    "2. Digite o seguinte comando e pressione `Enter`:\n",
    "\n",
    "    ```\n",
    "    sudo apt clean\n",
    "    sudo apt autoclean\n",
    "    sudo apt autoremove\n",
    "    sudo apt update -y\n",
    "    sudo apt autoremove\n",
    "    sudo apt autoclean\n",
    "    sudo apt list --upgradable\n",
    "    sudo apt full-upgrade -y\n",
    "    sudo apt install qalculate-gtk\n",
    "    qalculate --version\n",
    "    ```"
   ]
  },
  {
   "cell_type": "markdown",
   "metadata": {
    "vscode": {
     "languageId": "plaintext"
    }
   },
   "source": [
    "## Referências\n",
    "\n",
    "[1] OPENAI. ***Instalação qalculate ubuntu.*** Disponível em: <https://chatgpt.com/c/f1c79929-aa4d-4a3b-aac7-cc3e0936e8e3> (texto adaptado). ChatGPT. Acessado em: 03/09/2024 14:23.\n",
    "\n",
    "[2] OPENAI. ***Vs code: editor popular.*** Disponível em: <https://chat.openai.com/c/b640a25d-f8e3-4922-8a3b-ed74a2657e42> (texto adaptado). ChatGPT. Acessado em: 03/09/2024 14:23.\n"
   ]
  }
 ],
 "metadata": {
  "kernelspec": {
   "display_name": "Python 3",
   "language": "python",
   "name": "python3"
  },
  "language_info": {
   "codemirror_mode": {
    "name": "ipython",
    "version": 3
   },
   "file_extension": ".py",
   "mimetype": "text/x-python",
   "name": "python",
   "nbconvert_exporter": "python",
   "pygments_lexer": "ipython3",
   "version": "3.8.10"
  },
  "orig_nbformat": 4
 },
 "nbformat": 4,
 "nbformat_minor": 2
}
